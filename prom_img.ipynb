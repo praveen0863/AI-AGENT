{
  "nbformat": 4,
  "nbformat_minor": 0,
  "metadata": {
    "colab": {
      "private_outputs": true,
      "provenance": [],
      "gpuType": "T4",
      "include_colab_link": true
    },
    "kernelspec": {
      "name": "python3",
      "display_name": "Python 3"
    },
    "language_info": {
      "name": "python"
    },
    "accelerator": "GPU"
  },
  "cells": [
    {
      "cell_type": "markdown",
      "metadata": {
        "id": "view-in-github",
        "colab_type": "text"
      },
      "source": [
        "<a href=\"https://colab.research.google.com/github/praveen0863/AI-AGENT/blob/main/prom_img.ipynb\" target=\"_parent\"><img src=\"https://colab.research.google.com/assets/colab-badge.svg\" alt=\"Open In Colab\"/></a>"
      ]
    },
    {
      "cell_type": "code",
      "execution_count": null,
      "metadata": {
        "id": "KsNjmBhKLzBL"
      },
      "outputs": [],
      "source": [
        "from transformers import pipeline"
      ]
    },
    {
      "cell_type": "code",
      "source": [
        "image_captioner = pipeline(\"image-to-text\")"
      ],
      "metadata": {
        "id": "CoPnBtMCNAnO"
      },
      "execution_count": null,
      "outputs": []
    },
    {
      "cell_type": "code",
      "source": [
        "image = r'/content/SAVE_20250416_225123.jpg'\n",
        "caption = image_captioner(image)\n",
        "caption[0].get('generated_text')"
      ],
      "metadata": {
        "id": "v0WnU744N0w9"
      },
      "execution_count": null,
      "outputs": []
    },
    {
      "cell_type": "code",
      "source": [
        "vqa=pipeline('visual-question-answering')"
      ],
      "metadata": {
        "id": "mt65glpMQong"
      },
      "execution_count": null,
      "outputs": []
    },
    {
      "cell_type": "code",
      "source": [
        "image = r'/content/SAVE_20250416_232038.jpg'"
      ],
      "metadata": {
        "id": "wM4RAKelU6mp"
      },
      "execution_count": null,
      "outputs": []
    },
    {
      "cell_type": "code",
      "source": [
        "q= input('ask a question about the image')\n",
        "result=vqa(image,q)\n",
        "result"
      ],
      "metadata": {
        "id": "D2chERuAVKwE"
      },
      "execution_count": null,
      "outputs": []
    },
    {
      "cell_type": "code",
      "source": [
        "!pip install diffusers\n",
        "import torch\n",
        "from diffusers import DiffusionPipeline\n",
        "\n",
        "generator=DiffusionPipeline.from_pretrained('runwayml/stable-diffusion-v1-5')\n",
        "generator.to('cuda')"
      ],
      "metadata": {
        "id": "g-yqSJW9Vnge"
      },
      "execution_count": null,
      "outputs": []
    },
    {
      "cell_type": "code",
      "source": [
        "prompt=input(\"Enter the prompt:\")\n",
        "image=generator(prompt).images[0]\n",
        "image"
      ],
      "metadata": {
        "id": "CQVkz_DhliK8"
      },
      "execution_count": null,
      "outputs": []
    },
    {
      "cell_type": "code",
      "source": [
        "prompt=\"professor doom\"\n",
        "image=generator(prompt).images[0]\n",
        "image"
      ],
      "metadata": {
        "id": "NLSBYqipno9p"
      },
      "execution_count": null,
      "outputs": []
    },
    {
      "cell_type": "code",
      "source": [
        "from transformers import pipeline\n",
        "img_cls=pipeline('image-classification')"
      ],
      "metadata": {
        "id": "Z92la8efosMx"
      },
      "execution_count": null,
      "outputs": []
    },
    {
      "cell_type": "code",
      "source": [
        "img = \"/content/pexels-vedran-miletić-2313396.jpg\""
      ],
      "metadata": {
        "id": "gEi6k589rwjy"
      },
      "execution_count": null,
      "outputs": []
    },
    {
      "cell_type": "code",
      "source": [
        "r=img_cls(img)\n",
        "r"
      ],
      "metadata": {
        "id": "pWgb4E2BsDyI"
      },
      "execution_count": null,
      "outputs": []
    },
    {
      "cell_type": "code",
      "source": [
        "det = pipeline('object-detection')"
      ],
      "metadata": {
        "id": "_uFVn6ZVsHOI"
      },
      "execution_count": null,
      "outputs": []
    },
    {
      "cell_type": "code",
      "source": [
        "r=det(\"/content/pexels-vedran-miletić-2313396.jpg\")"
      ],
      "metadata": {
        "id": "Fjw1Zhx-tMxZ"
      },
      "execution_count": null,
      "outputs": []
    },
    {
      "cell_type": "code",
      "source": [
        "r"
      ],
      "metadata": {
        "id": "bS1d78E6u6_n"
      },
      "execution_count": null,
      "outputs": []
    },
    {
      "cell_type": "code",
      "source": [],
      "metadata": {
        "id": "g38V5zrWvQ-r"
      },
      "execution_count": null,
      "outputs": []
    },
    {
      "cell_type": "code",
      "source": [],
      "metadata": {
        "id": "l6FNGy7rwOgv"
      },
      "execution_count": null,
      "outputs": []
    }
  ]
}