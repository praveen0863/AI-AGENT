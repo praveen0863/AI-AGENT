{
  "nbformat": 4,
  "nbformat_minor": 0,
  "metadata": {
    "colab": {
      "provenance": [],
      "include_colab_link": true
    },
    "kernelspec": {
      "name": "python3",
      "display_name": "Python 3"
    },
    "language_info": {
      "name": "python"
    }
  },
  "cells": [
    {
      "cell_type": "markdown",
      "metadata": {
        "id": "view-in-github",
        "colab_type": "text"
      },
      "source": [
        "<a href=\"https://colab.research.google.com/github/praveen0863/AI-AGENT/blob/main/AI_Voice_Calc.ipynb\" target=\"_parent\"><img src=\"https://colab.research.google.com/assets/colab-badge.svg\" alt=\"Open In Colab\"/></a>"
      ]
    },
    {
      "cell_type": "code",
      "execution_count": null,
      "metadata": {
        "id": "gTF9IRNRGkZc",
        "colab": {
          "base_uri": "https://localhost:8080/"
        },
        "outputId": "59bbe284-943a-4077-d0fb-883812650888"
      },
      "outputs": [
        {
          "output_type": "stream",
          "name": "stdout",
          "text": [
            "Requirement already satisfied: SpeechRecognition==3.10.0 in /usr/local/lib/python3.11/dist-packages (3.10.0)\n",
            "Requirement already satisfied: pydub==0.25.1 in /usr/local/lib/python3.11/dist-packages (0.25.1)\n",
            "Requirement already satisfied: sympy==1.12 in /usr/local/lib/python3.11/dist-packages (1.12)\n",
            "Requirement already satisfied: requests>=2.26.0 in /usr/local/lib/python3.11/dist-packages (from SpeechRecognition==3.10.0) (2.32.3)\n",
            "Requirement already satisfied: mpmath>=0.19 in /usr/local/lib/python3.11/dist-packages (from sympy==1.12) (1.3.0)\n",
            "Requirement already satisfied: charset-normalizer<4,>=2 in /usr/local/lib/python3.11/dist-packages (from requests>=2.26.0->SpeechRecognition==3.10.0) (3.4.2)\n",
            "Requirement already satisfied: idna<4,>=2.5 in /usr/local/lib/python3.11/dist-packages (from requests>=2.26.0->SpeechRecognition==3.10.0) (3.10)\n",
            "Requirement already satisfied: urllib3<3,>=1.21.1 in /usr/local/lib/python3.11/dist-packages (from requests>=2.26.0->SpeechRecognition==3.10.0) (2.4.0)\n",
            "Requirement already satisfied: certifi>=2017.4.17 in /usr/local/lib/python3.11/dist-packages (from requests>=2.26.0->SpeechRecognition==3.10.0) (2025.4.26)\n"
          ]
        }
      ],
      "source": [
        "from IPython import get_ipython\n",
        "from IPython.display import display\n",
        "!pip install SpeechRecognition==3.10.0 pydub==0.25.1 sympy==1.12\n",
        "from pydub import AudioSegment\n",
        "import speech_recognition as sr\n",
        "from sympy import sympify, solve\n",
        "from sympy.parsing.mathematica import parse_mathematica\n",
        "from sympy.parsing.latex import parse_latex\n",
        "from sympy.parsing.mathematica import parse_mathematica"
      ]
    },
    {
      "cell_type": "code",
      "source": [
        "mp3File = ('/content/buttons_calculator-76064.mp3')\n",
        "wavFile = ('/content/buttons_calculator-76064.wav')"
      ],
      "metadata": {
        "id": "m213rRN3GsD4"
      },
      "execution_count": null,
      "outputs": []
    },
    {
      "cell_type": "code",
      "source": [
        "try:\n",
        "    audio = AudioSegment.from_mp3(mp3File)\n",
        "    audio.export(wavFile, format='wav')\n",
        "    reco = sr.Recognizer()\n",
        "    with sr.AudioFile(wavFile) as source:\n",
        "        audio_data = reco.record(source)\n",
        "        text = reco.recognize_google(audio_data)\n",
        "        print(\"Transcribed text:\", text)\n",
        "        try:\n",
        "\n",
        "            expr = sympify(text)\n",
        "\n",
        "            if expr.is_number:\n",
        "                print(\"Result:\", expr)\n",
        "            elif '==' in text:\n",
        "\n",
        "                lhs, rhs = text.split('==')\n",
        "                equation = sympify(lhs) - sympify(rhs)\n",
        "                solutions = solve(equation)\n",
        "                print(\"Solutions:\", solutions)\n",
        "            else:\n",
        "                print(\"Transcribed text is not a simple solvable equation.\")\n",
        "        except Exception as e:\n",
        "            print(f\"Could not parse or solve the equation: {e}\")\n",
        "except Exception as e:\n",
        "    print(f\"An error occurred during audio processing or transcription: {e}\")"
      ],
      "metadata": {
        "id": "4KO6jlc8G0Xf",
        "colab": {
          "base_uri": "https://localhost:8080/"
        },
        "outputId": "bd44b24b-7633-454f-971d-0fa3ccbc7d7f"
      },
      "execution_count": null,
      "outputs": [
        {
          "output_type": "stream",
          "name": "stdout",
          "text": [
            "An error occurred during audio processing or transcription: \n"
          ]
        }
      ]
    }
  ]
}